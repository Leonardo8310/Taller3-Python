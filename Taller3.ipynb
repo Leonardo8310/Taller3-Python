{
 "cells": [
  {
   "cell_type": "markdown",
   "metadata": {},
   "source": [
    "## Ejercicio 7\n",
    "### Marco de palabras con Asteriscos\n",
    "\n",
    "Este codigo nos creara un marco al rededor de las palabras que se encuentran en una frase y seran separadas cada palabras en una linea diferente. \n",
    "Para que el margen de la linea del lado derecho quede derecha se utiliza la funcion Strip. La cual quita espacios entre las palaras y deja que las funciones Split y Center acomoden y separe cada palabra en una linea diferente.\n",
    "El marco se puede realizar con cualquier simbolo o letra diferente al *, se podria con @, /, $, etc.\n",
    "Para iterar y encontar el tamaño maximo de las palabras tambien podria utlizar una expresion generadora la cual ahorra el espacio utilizado en memoria\n",
    "y el codigo es mas corto Ej: longitud_palabra = max(len(palabra) for palabra in texto.split()) .Aca la funcion max encuentra y asigna la palabra mas larga y Split divide la palabra y la pone en lineas diferentes."
   ]
  },
  {
   "cell_type": "code",
   "execution_count": null,
   "metadata": {},
   "outputs": [
    {
     "name": "stdout",
     "output_type": "stream",
     "text": [
      "**********\n",
      "*  Esto  *\n",
      "*   es   *\n",
      "*  una   *\n",
      "* Prueba *\n",
      "*   de   *\n",
      "* texto  *\n",
      "**********\n"
     ]
    }
   ],
   "source": [
    "def marco_de_asteriscos(texto):\n",
    "  \n",
    "\n",
    "    # Obtener la longitud de la línea más larga\n",
    "    longitud_palabra = 0\n",
    "    for palabra in texto.split(): # recorre el texto y divide las palabras en lineas diferentes\n",
    "            if len(palabra)>longitud_palabra: # encuentra la palabra mas larga y la deja como referencia para el marco\n",
    "                longitud_palabra = len(palabra)\n",
    "\n",
    "    #longitud_palabra = max(len(palabra) for palabra in texto.split()) Esta seria la expresion generadora.\n",
    "\n",
    "    # Crear la línea superior e inferior\n",
    "    linea_superior = \"*\" * (longitud_palabra + 4)\n",
    "\n",
    "    # Imprimir el marco\n",
    "    print(linea_superior)\n",
    "    for palabra in texto.split():\n",
    "        palabra = palabra.strip() # quita espacios en blanco al inicio y al final.\n",
    "        print(\"*\", palabra.center(longitud_palabra), \"*\")\n",
    "    print(linea_superior) # se pone la misma para la inferior ya que es el mismo tamaño.\n",
    "\n",
    "# aca Termina la funcion luego se pone el texto a imprimir y se llama a la funcion para que realice el marco. \n",
    "\n",
    "# Llamada a la función con el texto\n",
    "texto = \"Esto es una Prueba de texto\"\n",
    "\n",
    "marco_de_asteriscos(texto)"
   ]
  },
  {
   "cell_type": "markdown",
   "metadata": {},
   "source": [
    "# Ejercicio 1\n",
    "## Area De Un Poligono.\n",
    "Este programa utiliza una estructura condicional llamada mach la cual evalua el valor de la variable y ejecuta un codigo segun el caso escogido.\n",
    "en este programa tenemos 3 casos en el cual se solicita que el usuario ingrese los datos segun el caso escogido. Dentro de los casos tenemos para \n",
    "hallar el area del cuadrado, el area de un rectangulo y el de un triangulo. "
   ]
  },
  {
   "cell_type": "code",
   "execution_count": null,
   "metadata": {},
   "outputs": [
    {
     "name": "stdout",
     "output_type": "stream",
     "text": [
      "Por favor digite una opcion: \n",
      "1. Area de cuadrado. \n",
      "2. Area de rectangulo. \n",
      "3. Area de triangulo. \n",
      "El area del cuadrado es:  16\n"
     ]
    },
    {
     "data": {
      "text/plain": [
       "' def calcular_area():\\n    while True:\\n        print(\"\\nCalculadora de áreas\")\\n        print(\"1. Área de cuadrado\")\\n        print(\"2. Área de rectángulo\")\\n        print(\"3. Área de triángulo\")\\n       # print(\"0. Salir\")\\n\\n        opcion = input(\"Ingrese una opción: \")\\n\\n        #if opcion == \"0\":\\n         #   break\\n\\n        if opcion not in [\"1\", \"2\", \"3\"]:\\n            print(\"Opción inválida. Por favor, ingrese 1, 2, 3 o 0.\")\\n            continue\\n\\n        if opcion == \"1\":\\n            lado = int(input(\"Ingrese el lado del cuadrado: \"))\\n            area = lado * lado\\n        elif opcion == \"2\":\\n            base = int(input(\"Ingrese la base del rectángulo: \"))\\n            altura = int(input(\"Ingrese la altura del rectángulo: \"))\\n            area = base * altura\\n        else:\\n            base = int(input(\"Ingrese la base del triángulo: \"))\\n            altura = int(input(\"Ingrese la altura del triángulo: \"))\\n            area = (base * altura) / 2\\n\\n        print(\"El área es:\",area )\\n \\ncalcular_area()'"
      ]
     },
     "execution_count": 3,
     "metadata": {},
     "output_type": "execute_result"
    }
   ],
   "source": [
    "\n",
    "def calcular_area():\n",
    "    print(\"Por favor digite una opcion: \")\n",
    "    print(\"1. Area de cuadrado. \")\n",
    "    print(\"2. Area de rectangulo. \")\n",
    "    print(\"3. Area de triangulo. \")\n",
    "    opcion=input(\"ingrese num:\")\n",
    "    match opcion:\n",
    "        case \"1\":\n",
    "            lado=int(input(\"Ingrese el lado del cuadrado: \"))\n",
    "            print(\"El area del cuadrado es: \",lado*lado)\n",
    "        case \"2\":\n",
    "            base=int(input(\"Ingrese la base del rectangulo: \"))\n",
    "            altura=int(input(\"Ingrese la altura del rectangulo: \"))\n",
    "            print(\"El area del rectangulo es: \",base*altura)\n",
    "        case \"3\":\n",
    "            base=int(input(\"Ingrese la base del triangulo: \"))\n",
    "            altura=int(input(\"Ingrese la altura del triangulo: \"))\n",
    "            print(\"El area del triangulo es: \",(base*altura)/2)\n",
    "        \n",
    "calcular_area()\n",
    "\n",
    "# se puede realizar tambien de esta Manera. \n",
    "\n",
    "\"\"\" def calcular_area():\n",
    "    while True:\n",
    "        print(\"\\nCalculadora de áreas\")\n",
    "        print(\"1. Área de cuadrado\")\n",
    "        print(\"2. Área de rectángulo\")\n",
    "        print(\"3. Área de triángulo\")\n",
    "       # print(\"0. Salir\")\n",
    "\n",
    "        opcion = input(\"Ingrese una opción: \")\n",
    "\n",
    "        #if opcion == \"0\":\n",
    "         #   break\n",
    "\n",
    "        if opcion not in [\"1\", \"2\", \"3\"]:\n",
    "            print(\"Opción inválida. Por favor, ingrese 1, 2, 3 o 0.\")\n",
    "            continue\n",
    "\n",
    "        if opcion == \"1\":\n",
    "            lado = int(input(\"Ingrese el lado del cuadrado: \"))\n",
    "            area = lado * lado\n",
    "        elif opcion == \"2\":\n",
    "            base = int(input(\"Ingrese la base del rectángulo: \"))\n",
    "            altura = int(input(\"Ingrese la altura del rectángulo: \"))\n",
    "            area = base * altura\n",
    "        else:\n",
    "            base = int(input(\"Ingrese la base del triángulo: \"))\n",
    "            altura = int(input(\"Ingrese la altura del triángulo: \"))\n",
    "            area = (base * altura) / 2\n",
    "\n",
    "        print(\"El área es:\",area )\n",
    " \n",
    "calcular_area()\"\"\"\n"
   ]
  },
  {
   "cell_type": "markdown",
   "metadata": {},
   "source": [
    "# ejercicio 2\n",
    "## Invertir Cadena\n",
    "\n",
    "Este programa se realizo con el ciclo While, y se le agrega un Input, para que se ingrese la cadena a invertir, lo que se hace con este ciclo es que va a iterar la oracion y va a restar en -1 el valor de cada letra ya que toma en la iteracion como un numero entero, y nos y al llegar a -1 este parara y nos mostrara la oracion o palabras invertidas. tambien vemos que en la operacion no ponemos nuevamente la variable a restar solo se pone += o -= lo que se entiende que la variable sera sumada o restada  Ej: i -= 1  es igual que si se escribiera i= i - 1, solo que es la version abreviada."
   ]
  },
  {
   "cell_type": "code",
   "execution_count": null,
   "metadata": {},
   "outputs": [
    {
     "name": "stdout",
     "output_type": "stream",
     "text": [
      "La cadena invertida es: odranoel\n"
     ]
    }
   ],
   "source": [
    "def inver_cadena(cadena):\n",
    " \n",
    "  cadena_invertida = \"\"\n",
    "  i = len(cadena) - 1 # itera desde el ultimo al primer caracter.\n",
    "  while i >= 0: # condiciona el ciclo y cuando llega a -1 para el ciclo.\n",
    "    cadena_invertida += cadena[i] # invierte los caracteres de pocicion en la nueva variable.\n",
    "    i -= 1 # pasa al siguinte caracter, osea realiza cuenta regresiva. hasta el primer caracter.\n",
    "  return cadena_invertida\n",
    "\n",
    "# Obtener la cadena del usuario\n",
    "cadena = input(\"Ingrese la cadena a invertir: \")\n",
    "\n",
    "# Invertir la cadena y mostrar el resultado\n",
    "cadena_invertida = inver_cadena(cadena) # aca se devuelve el mensaje o se iguala solo que invertido. \"Hola\" a \"aloH\". \n",
    "print(\"La cadena invertida es:\", cadena_invertida)"
   ]
  },
  {
   "cell_type": "markdown",
   "metadata": {},
   "source": [
    "# Ejercicio 3\n",
    "## Eliminando Caracteres.\n",
    "Este programa verifica en las dos cadenas que se ingresan si hay caracteres iguales y si los encuentra los elimina y los muestras en dos nuevas variables sin que estos aparezcan. \n",
    "\n",
    "El programa itera en cada cadena con una ciclo for, buscando en sus carateres si hay uno igual y los quita. y los almacena en otra variable para cada cadena."
   ]
  },
  {
   "cell_type": "code",
   "execution_count": null,
   "metadata": {},
   "outputs": [
    {
     "name": "stdout",
     "output_type": "stream",
     "text": [
      "Salida 1: hcto\n",
      "Salida 2: ands\n"
     ]
    }
   ],
   "source": [
    "def elimina_caracter(cadena1, cadena2):\n",
    "\n",
    "  unicos_cadena1 = \"\"\n",
    "  unicos_cadena2 = \"\"\n",
    "\n",
    "  # Iteramos sobre cada carácter de la primera cadena\n",
    "  for caracter in cadena1:\n",
    "    # Verificamos si el carácter no está en la segunda cadena\n",
    "    if caracter not in cadena2:\n",
    "      unicos_cadena1 += caracter\n",
    "\n",
    "  # Iteramos sobre cada carácter de la segunda cadena\n",
    "  for caracter in cadena2:\n",
    "    # Verificamos si el carácter no está en la primera cadena\n",
    "    if caracter not in cadena1:\n",
    "      unicos_cadena2 += caracter\n",
    "\n",
    "  print(\"Salida 1:\", unicos_cadena1)\n",
    "  print(\"Salida 2:\", unicos_cadena2)\n",
    "\n",
    "# se pide ingresar las palabras o cadenas:\n",
    "cadena1 = input(\"Ingrese la primera cadena: \")\n",
    "cadena2 = input(\"Ingrese la segunda cadena: \")\n",
    "elimina_caracter(cadena1, cadena2)"
   ]
  },
  {
   "cell_type": "markdown",
   "metadata": {},
   "source": [
    "# ejercicio 4\n",
    "## Numero Armstrong\n",
    "\n",
    "Este Programa toma un número ingresado por el usuario y verifica si es un número de Armstrong. Un número Armstrong es aquel que es igual a la suma de sus dígitos, cada uno elevado a la potencia de la cantidad total de dígitos. Por ejemplo, 370 es un número de Armstrong porque 3^3 + 7^3 + 0^3 = 370.\n",
    "Creamos un ciclo for para elevar y sumar y el resultado lo guardamos en la variale suma. Luego retornamos esto para comparar si la suma es igual al numero ingresado.\n",
    "\n",
    "Para Imprimir lo puedo hacer de dos formas. Ej: podemos utilizar el formato de cadena \" f \", y la variable entre llaves:\n",
    "\n",
    "#### print (f\"El número {numero} es un numero Armstrong.\")\n",
    "\n",
    "o sin el formato\" f \"\n",
    "\n",
    "#### print (\"El número \" + str (numero) + \" es un numero Armstrong.\") \n",
    "\n",
    "solo que aca declaramos o llamamos a la variable como cadena. el resultado debe ser el mismo."
   ]
  },
  {
   "cell_type": "code",
   "execution_count": 4,
   "metadata": {},
   "outputs": [
    {
     "name": "stdout",
     "output_type": "stream",
     "text": [
      "El número 370 es un numero Armstrong.\n"
     ]
    }
   ],
   "source": [
    "def armstrong(numero):\n",
    "\n",
    "  # Inicializamos la suma\n",
    "  suma = 0\n",
    "\n",
    "  # Convertimos el número a una cadena para trabajar con cada dígito\n",
    "  num_cadena = str(numero)\n",
    "  # Contamos los dígitos del número\n",
    "  num_digitos = len(num_cadena) # estos dijitos son el mismo exponente.\n",
    "\n",
    "  # Usamos un ciclo for para iterar sobre cada dígito\n",
    "  for digito in num_cadena:\n",
    "    # Convertimos el dígito de nuevo a un número y lo elevamos a la potencia correspondiente\n",
    "    suma += int(digito) ** num_digitos # esto es igual que suma = suma + int(digito) **(exponente) num_digitos\n",
    "\n",
    "    \n",
    "\n",
    "  # Comparamos la suma con el número original\n",
    "  return suma == numero\n",
    "  # se pide ingresar un numero.\n",
    "numero = int(input(\"Ingrese un número: \"))\n",
    "\n",
    "  # con esta condicion comparamos si es o no un numero armsrong e imprime segun el caso.\n",
    "if armstrong(numero):\n",
    "   \n",
    "  # print(f\"El número {numero} es un numero Armstrong.\") \n",
    "  print(\"El número \" + str (numero) + \" es un numero Armstrong.\") # se puede escribir asi sin la f. print(\"El número \" + str(numero) + \" no es un número Armstrong.\")\n",
    "else:\n",
    " # print(f\"El número {numero} no es un numero Armstrong.\") \n",
    "  print(\"El número \" + str (numero) + \" no es un número Armstrong.\")"
   ]
  },
  {
   "cell_type": "markdown",
   "metadata": {},
   "source": [
    "# Ejercicio 5\n",
    "## Coversor Tiempo.\n",
    "El programa realizara un calculo de los datos ingresados por el usuario, y todo esto lo hara calculando con el valor de un milisegundo. Se crea una variable en 0, y al final de todo el calculo nos retorna la misma con el valor de todos los datos en milisegundos.\n",
    "\n",
    "1 s = 1000 ms.  Ej: 1,5 s *(1000 ms / 1s) = 1500 ms.\n",
    "\n",
    "Estos son los Valores Base para las operaciones:\n",
    "\n",
    "1000 milisegundos equivalen a 1 segundo.\n",
    "\n",
    "60000 milisegundos equivalen a 1 minuto (60 segundos * 1000 milisegundos/segundo).\n",
    "\n",
    "3600000 milisegundos equivalen a 1 hora (60 minutos/hora * 60 segundos/minuto * 1000 milisegundos/segundo).\n",
    "\n",
    "86400000 milisegundos equivalen a 1 día (24 horas/día * 60 minutos/hora * 60 segundos/minuto * 1000 milisegundos/segundo).\n",
    "\n",
    "Luego todos estos Valores se sumaman y nos devuelve el valor de todos los datos en milisegundos."
   ]
  },
  {
   "cell_type": "code",
   "execution_count": null,
   "metadata": {},
   "outputs": [
    {
     "name": "stdout",
     "output_type": "stream",
     "text": [
      "El equivalente en milisegundos es: 86400000\n"
     ]
    }
   ],
   "source": [
    "def conv_Tiemp (dias, horas, minutos, segundos):\n",
    "\n",
    "  msegundos_total = 0  \n",
    "  msegundos_total += segundos * 1000\n",
    "  msegundos_total += minutos * 60000\n",
    "  msegundos_total += horas * 3600000\n",
    "  msegundos_total += dias * 86400000\n",
    "\n",
    "  return msegundos_total\n",
    "\n",
    "# Ingreso de datos por el usuario\n",
    "\n",
    "dias = int(input(\"Ingrese el número de días: \"))\n",
    "horas = int(input(\"Ingrese el número de horas: \"))\n",
    "minutos = int(input(\"Ingrese el número de minutos: \"))\n",
    "segundos = int(input(\"Ingrese el número de segundos: \"))\n",
    "\n",
    "# Llamado a la función y obtención del resultado\n",
    "resultado = conv_Tiemp(dias, horas, minutos, segundos)\n",
    "\n",
    "# Impresión del resultado\n",
    "print(\"El equivalente en milisegundos es:\", resultado)\n"
   ]
  },
  {
   "cell_type": "markdown",
   "metadata": {},
   "source": [
    "# ejercicio 6\n",
    "## Cuadrado y triangulo 2D.\n",
    "Este programa utilia una funcion la cual solicita una figura geometrica, Cuadrado o Triangulo y el tamaño que tendra la figura selccionada.\n",
    "\n",
    "En la condicion if - elif vemos el lower lo que hace esto funcion es convertir toda la cadena en minuscula. Ej: si se escribe TRiangulo, el lower lo que hace es convertir todo en miniscula triangulo. Se realiza lo mismo para cuadrado. \n",
    "\n",
    "El Bucle For incrementa el valor en la variale figura para triangulo. En cuadrado solo toma el valor devido a que cuadrado solo tiene un lado. o es lado * lado."
   ]
  },
  {
   "cell_type": "code",
   "execution_count": null,
   "metadata": {},
   "outputs": [
    {
     "name": "stdout",
     "output_type": "stream",
     "text": [
      "*\n",
      "**\n",
      "***\n",
      "****\n",
      "*****\n"
     ]
    }
   ],
   "source": [
    "def figura_2d(figura, tamano):\n",
    "\n",
    "  if figura.lower() == \"triangulo\":\n",
    "    for i in range(1, tamano + 1):  # Incrementa con el valor de la variable tamaño.\n",
    "      print(\"*\" * i)\n",
    "  elif figura.lower() == \"cuadrado\": \n",
    "    for i in range(tamano): # toma el valor de tamaño ya que solo el cuadrado tiene un solo valor que es lado.\n",
    "      print(\"*\" * tamano)\n",
    "\n",
    "# Pedimos al usuario la figura y el tamaño\n",
    "figura = input(\"¿Qué figura quieres dibujar? (triangulo o cuadrado): \") # ingresa la seleccion de la figura \n",
    "tamano = int(input(\"¿Cuál es el tamaño del lado?: \")) # ingresa el valor que debera tener cada figura.\n",
    "\n",
    "# Llamamos a la función para dibujar la figura\n",
    "figura_2d(figura, tamano)"
   ]
  },
  {
   "cell_type": "markdown",
   "metadata": {},
   "source": [
    "# Ejercicio 8\n",
    "## Parametros URL\n",
    "\n"
   ]
  },
  {
   "cell_type": "code",
   "execution_count": null,
   "metadata": {},
   "outputs": [
    {
     "name": "stdout",
     "output_type": "stream",
     "text": [
      "{'param1': 'valor1', 'param2': 'valor2'}\n"
     ]
    }
   ],
   "source": [
    "def extraer_parametros_while(url):\n",
    "\n",
    "    parametros = {}\n",
    "    indice = url.find('?')  # Encontrar el inicio de los parámetros\n",
    "    if indice != -1:\n",
    "        parte_parametros = url[indice + 1:]\n",
    "        par = \"\"\n",
    "        for caracter in parte_parametros:\n",
    "            if caracter == '&':\n",
    "                clave, valor = par.split('=')\n",
    "                parametros[clave] = valor\n",
    "                par = \"\"\n",
    "            else:\n",
    "                par += caracter\n",
    "        # Procesar el último par\n",
    "        if par:\n",
    "            clave, valor = par.split('=')\n",
    "            parametros[clave] = valor\n",
    "\n",
    "    return parametros\n",
    "mi_url = \"https://www.ejemplo.com/pagina?param1=valor1&param2=valor2\"\n",
    "resultado = extraer_parametros_while(mi_url)\n",
    "print(resultado)  # Imprimirá: {'param1': 'valor1', 'param2': 'valor2'}"
   ]
  }
 ],
 "metadata": {
  "kernelspec": {
   "display_name": "Python 3",
   "language": "python",
   "name": "python3"
  },
  "language_info": {
   "codemirror_mode": {
    "name": "ipython",
    "version": 3
   },
   "file_extension": ".py",
   "mimetype": "text/x-python",
   "name": "python",
   "nbconvert_exporter": "python",
   "pygments_lexer": "ipython3",
   "version": "3.11.9"
  }
 },
 "nbformat": 4,
 "nbformat_minor": 2
}
